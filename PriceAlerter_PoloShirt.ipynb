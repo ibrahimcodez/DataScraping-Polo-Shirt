{
 "cells": [
  {
   "cell_type": "code",
   "execution_count": null,
   "id": "cb591657-6ed2-4c5f-b2f5-c05de9d3ae12",
   "metadata": {},
   "outputs": [
    {
     "name": "stdout",
     "output_type": "stream",
     "text": [
      "Starting a new iteration...\n",
      "Found the price: Rs.1,995.00 PKR\n",
      "Desired price has still not been reached.\n"
     ]
    }
   ],
   "source": [
    "import time\n",
    "import requests\n",
    "from bs4 import BeautifulSoup\n",
    "import pandas as pd\n",
    "from datetime import datetime\n",
    "\n",
    "target_price = \"Rs.1,800.00 PKR\"  # Set your target price here.\n",
    "\n",
    "while True:\n",
    "    print(\"Starting a new iteration...\")  # Debug message\n",
    "\n",
    "    # Sending a request to the website to get its content\n",
    "    response = requests.get(\"https://wildgoat.com.pk/products/maroon-polo-shirt\")\n",
    "    soup = BeautifulSoup(response.text, 'html.parser')\n",
    "\n",
    "    # Finding the price tag in the HTML\n",
    "    price_tag = soup.find(\"span\", {\"class\": \"price-item price-item--sale price-item--last\"})\n",
    "    \n",
    "    if price_tag:\n",
    "        price = price_tag.text.strip()\n",
    "        print(f\"Found the price: {price}\")  # Debug message\n",
    "\n",
    "        # Convert to float for comparison\n",
    "        price_float = float(price.replace(\"Rs.\", \"\").replace(\",\", \"\").replace(\" PKR\", \"\"))\n",
    "        target_price_float = float(target_price.replace(\"Rs.\", \"\").replace(\",\", \"\").replace(\" PKR\", \"\"))\n",
    "        \n",
    "        # If price is less than or equal to target, print Buy now!\n",
    "        if price_float <= target_price_float:\n",
    "            print(\"Buy now!\")\n",
    "            break  # Exit the loop since the desired price has been reached\n",
    "        else:\n",
    "            print(\"Desired price has still not been reached.\")\n",
    "        \n",
    "        # Getting the current time to log when this price was fetched\n",
    "        current_time = datetime.now().strftime('%Y-%m-%d %H:%M:%S')\n",
    "        \n",
    "        # Reading the existing CSV into a DataFrame\n",
    "        try:\n",
    "            df = pd.read_csv(\"shirt_prices.csv\")\n",
    "        except FileNotFoundError:\n",
    "            # If file doesn't exist, create an empty DataFrame\n",
    "            df = pd.DataFrame(columns=['Time', 'Price'])\n",
    "        \n",
    "        # Appending the new data to DataFrame\n",
    "        new_row = {'Time': current_time, 'Price': price}\n",
    "        df = pd.concat([df, pd.DataFrame([new_row])]).reset_index(drop=True)\n",
    "\n",
    "        # Saving the DataFrame back to the CSV\n",
    "        df.to_csv(\"shirt_prices.csv\", index=False)\n",
    "        \n",
    "    else:\n",
    "        print(\"Could not find the price.\")\n",
    "    \n",
    "    # Sleep for 24 hours (86,400 seconds) before checking again\n",
    "    time.sleep(86400)\n",
    "\n"
   ]
  }
 ],
 "metadata": {
  "kernelspec": {
   "display_name": "Python 3 (ipykernel)",
   "language": "python",
   "name": "python3"
  },
  "language_info": {
   "codemirror_mode": {
    "name": "ipython",
    "version": 3
   },
   "file_extension": ".py",
   "mimetype": "text/x-python",
   "name": "python",
   "nbconvert_exporter": "python",
   "pygments_lexer": "ipython3",
   "version": "3.11.4"
  }
 },
 "nbformat": 4,
 "nbformat_minor": 5
}
